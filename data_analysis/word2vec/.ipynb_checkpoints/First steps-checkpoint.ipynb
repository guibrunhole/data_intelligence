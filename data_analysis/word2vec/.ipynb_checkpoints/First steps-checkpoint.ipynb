{
 "cells": [
  {
   "cell_type": "markdown",
   "metadata": {},
   "source": [
    "Referencia: \n",
    "* http://mccormickml.com/2016/04/12/googles-pretrained-word2vec-model-in-python/\n",
    "* http://textminingonline.com/training-word2vec-model-on-english-wikipedia-by-gensim\n",
    "* https://radimrehurek.com/gensim/models/word2vec.html"
   ]
  },
  {
   "cell_type": "code",
   "execution_count": 9,
   "metadata": {
    "collapsed": true
   },
   "outputs": [],
   "source": [
    "import gensim"
   ]
  },
  {
   "cell_type": "code",
   "execution_count": 12,
   "metadata": {},
   "outputs": [
    {
     "name": "stderr",
     "output_type": "stream",
     "text": [
      "2017-06-20 15:06:33,336: INFO: loading projection weights from GoogleNews-vectors-negative300.bin\n",
      "2017-06-20 15:07:17,011: INFO: loaded (3000000, 300) matrix from GoogleNews-vectors-negative300.bin\n"
     ]
    }
   ],
   "source": [
    "#### usando a base de dados do GoogleNews\n",
    "model = gensim.models.KeyedVectors.load_word2vec_format(\"GoogleNews-vectors-negative300.bin\", binary=True)"
   ]
  },
  {
   "cell_type": "code",
   "execution_count": 22,
   "metadata": {
    "collapsed": true
   },
   "outputs": [],
   "source": [
    "most_similar = model.most_similar(\"queen\")\n",
    "similarity = model.similarity(\"boy\", \"girl\")"
   ]
  },
  {
   "cell_type": "code",
   "execution_count": 54,
   "metadata": {},
   "outputs": [
    {
     "data": {
      "text/plain": [
       "[(u'queens', 0.739944338798523),\n",
       " (u'princess', 0.7070531845092773),\n",
       " (u'king', 0.6510956883430481),\n",
       " (u'monarch', 0.6383601427078247),\n",
       " (u'very_pampered_McElhatton', 0.6357026100158691),\n",
       " (u'Queen', 0.6163407564163208),\n",
       " (u'NYC_anglophiles_aflutter', 0.6060680150985718),\n",
       " (u'Queen_Consort', 0.592379629611969),\n",
       " (u'princesses', 0.5908075571060181),\n",
       " (u'royal', 0.5637185573577881)]"
      ]
     },
     "execution_count": 54,
     "metadata": {},
     "output_type": "execute_result"
    }
   ],
   "source": [
    "most_similar"
   ]
  },
  {
   "cell_type": "code",
   "execution_count": 53,
   "metadata": {},
   "outputs": [
    {
     "data": {
      "text/plain": [
       "0.85432719142048552"
      ]
     },
     "execution_count": 53,
     "metadata": {},
     "output_type": "execute_result"
    }
   ],
   "source": [
    "similarity"
   ]
  },
  {
   "cell_type": "code",
   "execution_count": 60,
   "metadata": {},
   "outputs": [
    {
     "data": {
      "text/plain": [
       "'lunch'"
      ]
     },
     "execution_count": 60,
     "metadata": {},
     "output_type": "execute_result"
    }
   ],
   "source": [
    "model.doesnt_match(\"breakfast dinner lunch\".split())"
   ]
  }
 ],
 "metadata": {
  "kernelspec": {
   "display_name": "Python 2",
   "language": "python",
   "name": "python2"
  },
  "language_info": {
   "codemirror_mode": {
    "name": "ipython",
    "version": 2
   },
   "file_extension": ".py",
   "mimetype": "text/x-python",
   "name": "python",
   "nbconvert_exporter": "python",
   "pygments_lexer": "ipython2",
   "version": "2.7.13"
  }
 },
 "nbformat": 4,
 "nbformat_minor": 2
}
