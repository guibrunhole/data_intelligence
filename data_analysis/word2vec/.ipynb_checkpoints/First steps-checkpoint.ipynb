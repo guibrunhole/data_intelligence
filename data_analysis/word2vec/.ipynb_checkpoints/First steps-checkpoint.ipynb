{
 "cells": [
  {
   "cell_type": "markdown",
   "metadata": {},
   "source": [
    "Referencia: \n",
    "* http://mccormickml.com/2016/04/12/googles-pretrained-word2vec-model-in-python/\n",
    "* http://textminingonline.com/training-word2vec-model-on-english-wikipedia-by-gensim\n",
    "* https://radimrehurek.com/gensim/models/word2vec.html"
   ]
  },
  {
   "cell_type": "code",
   "execution_count": 1,
   "metadata": {
    "collapsed": true
   },
   "outputs": [],
   "source": [
    "import gensim"
   ]
  },
  {
   "cell_type": "code",
   "execution_count": 2,
   "metadata": {
    "collapsed": true
   },
   "outputs": [],
   "source": [
    "#### usando a base de dados do GoogleNews\n",
    "model = gensim.models.KeyedVectors.load_word2vec_format(\"GoogleNews-vectors-negative300.bin\", binary=True)"
   ]
  },
  {
   "cell_type": "code",
   "execution_count": 3,
   "metadata": {
    "collapsed": true
   },
   "outputs": [],
   "source": [
    "most_similar = model.most_similar(\"pretty\")\n",
    "similarity = model.similarity(\"boy\", \"girl\")"
   ]
  },
  {
   "cell_type": "code",
   "execution_count": 4,
   "metadata": {},
   "outputs": [
    {
     "data": {
      "text/plain": [
       "[(u'pretty_darn', 0.819664478302002),\n",
       " (u'very', 0.7625877857208252),\n",
       " (u'awfully', 0.750242292881012),\n",
       " (u'quite', 0.7455620169639587),\n",
       " (u'fairly', 0.7299395799636841),\n",
       " (u'pretty_darned', 0.7151399850845337),\n",
       " (u'unbelievably', 0.7105132341384888),\n",
       " (u'really', 0.696144700050354),\n",
       " (u'incredibly', 0.6918127536773682),\n",
       " (u'Pretty', 0.672827959060669)]"
      ]
     },
     "execution_count": 4,
     "metadata": {},
     "output_type": "execute_result"
    }
   ],
   "source": [
    "most_similar"
   ]
  },
  {
   "cell_type": "code",
   "execution_count": 6,
   "metadata": {},
   "outputs": [
    {
     "data": {
      "text/plain": [
       "0.13273936861772692"
      ]
     },
     "execution_count": 6,
     "metadata": {},
     "output_type": "execute_result"
    }
   ],
   "source": [
    "similarity = model.similarity(\"car\", \"surf\")\n",
    "similarity"
   ]
  },
  {
   "cell_type": "code",
   "execution_count": 8,
   "metadata": {},
   "outputs": [
    {
     "data": {
      "text/plain": [
       "'surf'"
      ]
     },
     "execution_count": 8,
     "metadata": {},
     "output_type": "execute_result"
    }
   ],
   "source": [
    "model.doesnt_match(\"surf car dinner lunch\".split())"
   ]
  }
 ],
 "metadata": {
  "kernelspec": {
   "display_name": "Python 2",
   "language": "python",
   "name": "python2"
  },
  "language_info": {
   "codemirror_mode": {
    "name": "ipython",
    "version": 2
   },
   "file_extension": ".py",
   "mimetype": "text/x-python",
   "name": "python",
   "nbconvert_exporter": "python",
   "pygments_lexer": "ipython2",
   "version": "2.7.13"
  }
 },
 "nbformat": 4,
 "nbformat_minor": 2
}
