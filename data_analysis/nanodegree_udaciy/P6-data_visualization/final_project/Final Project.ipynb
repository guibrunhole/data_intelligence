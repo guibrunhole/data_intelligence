{
 "cells": [
  {
   "cell_type": "code",
   "execution_count": 1,
   "metadata": {
    "collapsed": true
   },
   "outputs": [],
   "source": [
    "import pandas as pd"
   ]
  },
  {
   "cell_type": "code",
   "execution_count": 2,
   "metadata": {
    "collapsed": true
   },
   "outputs": [],
   "source": [
    "data = pd.read_csv('world_cup.tsv', sep='\\t')"
   ]
  },
  {
   "cell_type": "code",
   "execution_count": 3,
   "metadata": {},
   "outputs": [
    {
     "data": {
      "text/html": [
       "<div>\n",
       "<style>\n",
       "    .dataframe thead tr:only-child th {\n",
       "        text-align: right;\n",
       "    }\n",
       "\n",
       "    .dataframe thead th {\n",
       "        text-align: left;\n",
       "    }\n",
       "\n",
       "    .dataframe tbody tr th {\n",
       "        vertical-align: top;\n",
       "    }\n",
       "</style>\n",
       "<table border=\"1\" class=\"dataframe\">\n",
       "  <thead>\n",
       "    <tr style=\"text-align: right;\">\n",
       "      <th></th>\n",
       "      <th>attendance</th>\n",
       "      <th>team1</th>\n",
       "      <th>team2</th>\n",
       "      <th>goals</th>\n",
       "      <th>tie</th>\n",
       "      <th>pk</th>\n",
       "      <th>stage</th>\n",
       "      <th>round</th>\n",
       "      <th>year</th>\n",
       "      <th>date</th>\n",
       "      <th>time</th>\n",
       "      <th>stadium</th>\n",
       "      <th>referee</th>\n",
       "      <th>url</th>\n",
       "    </tr>\n",
       "  </thead>\n",
       "  <tbody>\n",
       "    <tr>\n",
       "      <th>0</th>\n",
       "      <td>-25000</td>\n",
       "      <td>Italy</td>\n",
       "      <td>USA</td>\n",
       "      <td>1-Jul</td>\n",
       "      <td>False</td>\n",
       "      <td>FALSE</td>\n",
       "      <td>FIRST ROUND</td>\n",
       "      <td>FALSE</td>\n",
       "      <td>1934</td>\n",
       "      <td>27-05-1934 (16:00 h)</td>\n",
       "      <td>16:00</td>\n",
       "      <td>Stadio Nazionale del PNF (Roma)</td>\n",
       "      <td>Ren퀌� Mercet (SWI)</td>\n",
       "      <td>1934_ITALY_FS.htm</td>\n",
       "    </tr>\n",
       "    <tr>\n",
       "      <th>1</th>\n",
       "      <td>16000</td>\n",
       "      <td>Austria</td>\n",
       "      <td>France</td>\n",
       "      <td>2-Mar</td>\n",
       "      <td>False</td>\n",
       "      <td>FALSE</td>\n",
       "      <td>FIRST ROUND</td>\n",
       "      <td>FALSE</td>\n",
       "      <td>1934</td>\n",
       "      <td>27-05-1934 (16:30 h)</td>\n",
       "      <td>16:30</td>\n",
       "      <td>Benito Mussolini (Torino)</td>\n",
       "      <td>John van Moorsel (NED)</td>\n",
       "      <td>1934_ITALY_FS.htm</td>\n",
       "    </tr>\n",
       "    <tr>\n",
       "      <th>2</th>\n",
       "      <td>8000</td>\n",
       "      <td>Germany</td>\n",
       "      <td>Belgium</td>\n",
       "      <td>2-May</td>\n",
       "      <td>False</td>\n",
       "      <td>FALSE</td>\n",
       "      <td>FIRST ROUND</td>\n",
       "      <td>FALSE</td>\n",
       "      <td>1934</td>\n",
       "      <td>27-05-1934 (16:30 h)</td>\n",
       "      <td>16:30</td>\n",
       "      <td>Giovanni Berta (Firenze)</td>\n",
       "      <td>Francesco Mattea (ITA)</td>\n",
       "      <td>1934_ITALY_FS.htm</td>\n",
       "    </tr>\n",
       "    <tr>\n",
       "      <th>3</th>\n",
       "      <td>9000</td>\n",
       "      <td>Czechoslovakia</td>\n",
       "      <td>Romania</td>\n",
       "      <td>1-Feb</td>\n",
       "      <td>False</td>\n",
       "      <td>FALSE</td>\n",
       "      <td>FIRST ROUND</td>\n",
       "      <td>FALSE</td>\n",
       "      <td>1934</td>\n",
       "      <td>27-05-1934 (16:30 h)</td>\n",
       "      <td>16:30</td>\n",
       "      <td>Stadio del Littorio (Trieste)</td>\n",
       "      <td>Jean Langenus (BEL)</td>\n",
       "      <td>1934_ITALY_FS.htm</td>\n",
       "    </tr>\n",
       "    <tr>\n",
       "      <th>4</th>\n",
       "      <td>33000</td>\n",
       "      <td>Switzerland</td>\n",
       "      <td>Netherlands</td>\n",
       "      <td>2-Mar</td>\n",
       "      <td>False</td>\n",
       "      <td>FALSE</td>\n",
       "      <td>FIRST ROUND</td>\n",
       "      <td>FALSE</td>\n",
       "      <td>1934</td>\n",
       "      <td>27-05-1934 (16:30 h)</td>\n",
       "      <td>16:30</td>\n",
       "      <td>San Siro (Milano)</td>\n",
       "      <td>Ivan Eklind (SWE)</td>\n",
       "      <td>1934_ITALY_FS.htm</td>\n",
       "    </tr>\n",
       "  </tbody>\n",
       "</table>\n",
       "</div>"
      ],
      "text/plain": [
       "   attendance           team1        team2  goals    tie     pk        stage  \\\n",
       "0      -25000           Italy          USA  1-Jul  False  FALSE  FIRST ROUND   \n",
       "1       16000         Austria       France  2-Mar  False  FALSE  FIRST ROUND   \n",
       "2        8000         Germany      Belgium  2-May  False  FALSE  FIRST ROUND   \n",
       "3        9000  Czechoslovakia      Romania  1-Feb  False  FALSE  FIRST ROUND   \n",
       "4       33000     Switzerland  Netherlands  2-Mar  False  FALSE  FIRST ROUND   \n",
       "\n",
       "   round  year                  date   time                          stadium  \\\n",
       "0  FALSE  1934  27-05-1934 (16:00 h)  16:00  Stadio Nazionale del PNF (Roma)   \n",
       "1  FALSE  1934  27-05-1934 (16:30 h)  16:30        Benito Mussolini (Torino)   \n",
       "2  FALSE  1934  27-05-1934 (16:30 h)  16:30         Giovanni Berta (Firenze)   \n",
       "3  FALSE  1934  27-05-1934 (16:30 h)  16:30    Stadio del Littorio (Trieste)   \n",
       "4  FALSE  1934  27-05-1934 (16:30 h)  16:30                San Siro (Milano)   \n",
       "\n",
       "                  referee                url  \n",
       "0      Ren퀌� Mercet (SWI)  1934_ITALY_FS.htm  \n",
       "1  John van Moorsel (NED)  1934_ITALY_FS.htm  \n",
       "2  Francesco Mattea (ITA)  1934_ITALY_FS.htm  \n",
       "3     Jean Langenus (BEL)  1934_ITALY_FS.htm  \n",
       "4       Ivan Eklind (SWE)  1934_ITALY_FS.htm  "
      ]
     },
     "execution_count": 3,
     "metadata": {},
     "output_type": "execute_result"
    }
   ],
   "source": [
    "data.head()"
   ]
  },
  {
   "cell_type": "code",
   "execution_count": 14,
   "metadata": {
    "collapsed": true
   },
   "outputs": [],
   "source": [
    "data['aux'] = 1"
   ]
  },
  {
   "cell_type": "markdown",
   "metadata": {},
   "source": [
    "Quero criar um arquivo com dados somente dos estádios para fazermos um gráfico por tempo :)"
   ]
  },
  {
   "cell_type": "code",
   "execution_count": 26,
   "metadata": {},
   "outputs": [
    {
     "data": {
      "text/html": [
       "<div>\n",
       "<style>\n",
       "    .dataframe thead tr:only-child th {\n",
       "        text-align: right;\n",
       "    }\n",
       "\n",
       "    .dataframe thead th {\n",
       "        text-align: left;\n",
       "    }\n",
       "\n",
       "    .dataframe tbody tr th {\n",
       "        vertical-align: top;\n",
       "    }\n",
       "</style>\n",
       "<table border=\"1\" class=\"dataframe\">\n",
       "  <thead>\n",
       "    <tr style=\"text-align: right;\">\n",
       "      <th></th>\n",
       "      <th>year</th>\n",
       "      <th>stadium</th>\n",
       "      <th>counts</th>\n",
       "    </tr>\n",
       "  </thead>\n",
       "  <tbody>\n",
       "    <tr>\n",
       "      <th>0</th>\n",
       "      <td>1930</td>\n",
       "      <td>Estadio del Centenario (Montevideo)</td>\n",
       "      <td>10</td>\n",
       "    </tr>\n",
       "    <tr>\n",
       "      <th>1</th>\n",
       "      <td>1930</td>\n",
       "      <td>Parque Central (Montevideo)</td>\n",
       "      <td>6</td>\n",
       "    </tr>\n",
       "    <tr>\n",
       "      <th>2</th>\n",
       "      <td>1930</td>\n",
       "      <td>Pocitos (Montevideo)</td>\n",
       "      <td>2</td>\n",
       "    </tr>\n",
       "    <tr>\n",
       "      <th>3</th>\n",
       "      <td>1934</td>\n",
       "      <td>Benito Mussolini (Torino)</td>\n",
       "      <td>2</td>\n",
       "    </tr>\n",
       "    <tr>\n",
       "      <th>4</th>\n",
       "      <td>1934</td>\n",
       "      <td>Giorgio Ascarelli (Napoli)</td>\n",
       "      <td>2</td>\n",
       "    </tr>\n",
       "  </tbody>\n",
       "</table>\n",
       "</div>"
      ],
      "text/plain": [
       "   year                              stadium  counts\n",
       "0  1930  Estadio del Centenario (Montevideo)      10\n",
       "1  1930          Parque Central (Montevideo)       6\n",
       "2  1930                 Pocitos (Montevideo)       2\n",
       "3  1934            Benito Mussolini (Torino)       2\n",
       "4  1934           Giorgio Ascarelli (Napoli)       2"
      ]
     },
     "execution_count": 26,
     "metadata": {},
     "output_type": "execute_result"
    }
   ],
   "source": [
    "stadium = pd.DataFrame()\n",
    "\n",
    "stadium = data.groupby(['year', 'stadium']).size().reset_index(name='counts')\n",
    "\n",
    "stadium.head()"
   ]
  },
  {
   "cell_type": "code",
   "execution_count": 27,
   "metadata": {
    "collapsed": true
   },
   "outputs": [],
   "source": [
    "stadium.to_csv('stadium.tsv', sep = '\\t')"
   ]
  }
 ],
 "metadata": {
  "kernelspec": {
   "display_name": "Python 2",
   "language": "python",
   "name": "python2"
  },
  "language_info": {
   "codemirror_mode": {
    "name": "ipython",
    "version": 2
   },
   "file_extension": ".py",
   "mimetype": "text/x-python",
   "name": "python",
   "nbconvert_exporter": "python",
   "pygments_lexer": "ipython2",
   "version": "2.7.13"
  }
 },
 "nbformat": 4,
 "nbformat_minor": 2
}
